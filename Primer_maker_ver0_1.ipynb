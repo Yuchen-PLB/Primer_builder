{
  "nbformat": 4,
  "nbformat_minor": 0,
  "metadata": {
    "colab": {
      "provenance": [],
      "toc_visible": true
    },
    "kernelspec": {
      "name": "python3",
      "display_name": "Python 3"
    },
    "language_info": {
      "name": "python"
    }
  },
  "cells": [
    {
      "cell_type": "code",
      "execution_count": null,
      "metadata": {
        "colab": {
          "base_uri": "https://localhost:8080/"
        },
        "id": "f6IBoZGCZCkZ",
        "outputId": "0f713c55-3154-4f61-f046-83dc94c13fb2"
      },
      "outputs": [
        {
          "output_type": "stream",
          "name": "stdout",
          "text": [
            "Collecting biopython\n",
            "  Downloading biopython-1.81-cp310-cp310-manylinux_2_17_x86_64.manylinux2014_x86_64.whl (3.1 MB)\n",
            "\u001b[?25l     \u001b[90m━━━━━━━━━━━━━━━━━━━━━━━━━━━━━━━━━━━━━━━━\u001b[0m \u001b[32m0.0/3.1 MB\u001b[0m \u001b[31m?\u001b[0m eta \u001b[36m-:--:--\u001b[0m\r\u001b[2K     \u001b[91m━━━\u001b[0m\u001b[91m╸\u001b[0m\u001b[90m━━━━━━━━━━━━━━━━━━━━━━━━━━━━━━━━━━━━\u001b[0m \u001b[32m0.3/3.1 MB\u001b[0m \u001b[31m8.9 MB/s\u001b[0m eta \u001b[36m0:00:01\u001b[0m\r\u001b[2K     \u001b[91m━━━━━━━━━━━━━━━━━━━━━━━━\u001b[0m\u001b[91m╸\u001b[0m\u001b[90m━━━━━━━━━━━━━━━\u001b[0m \u001b[32m1.9/3.1 MB\u001b[0m \u001b[31m27.0 MB/s\u001b[0m eta \u001b[36m0:00:01\u001b[0m\r\u001b[2K     \u001b[90m━━━━━━━━━━━━━━━━━━━━━━━━━━━━━━━━━━━━━━━━\u001b[0m \u001b[32m3.1/3.1 MB\u001b[0m \u001b[31m29.1 MB/s\u001b[0m eta \u001b[36m0:00:00\u001b[0m\n",
            "\u001b[?25hRequirement already satisfied: numpy in /usr/local/lib/python3.10/dist-packages (from biopython) (1.22.4)\n",
            "Installing collected packages: biopython\n",
            "Successfully installed biopython-1.81\n"
          ]
        }
      ],
      "source": [
        "!pip install biopython"
      ]
    },
    {
      "cell_type": "code",
      "source": [
        "from Bio.Seq import Seq\n",
        "from itertools import product\n",
        "\n",
        "amino_acid_sequence = \"GLE\"\n",
        "# Create a dictionary that maps each amino acid to its corresponding DNA codons based on the genetic code\n",
        "genetic_code = {\n",
        "    \"A\": [\"GCT\", \"GCC\", \"GCA\", \"GCG\"],\n",
        "    \"R\": [\"CGT\", \"CGC\", \"CGA\", \"CGG\", \"AGA\", \"AGG\"],\n",
        "    \"N\": [\"AAT\", \"AAC\"],\n",
        "    \"D\": [\"GAT\", \"GAC\"],\n",
        "    \"C\": [\"TGT\", \"TGC\"],\n",
        "    \"Q\": [\"CAA\", \"CAG\"],\n",
        "    \"E\": [\"GAA\", \"GAG\"],\n",
        "    \"G\": [\"GGT\", \"GGC\", \"GGA\", \"GGG\"],\n",
        "    \"H\": [\"CAT\", \"CAC\"],\n",
        "    \"I\": [\"ATT\", \"ATC\", \"ATA\"],\n",
        "    \"K\": [\"AAA\", \"AAG\"],\n",
        "    \"L\": [\"TTA\", \"TTG\", \"CTT\", \"CTC\", \"CTA\", \"CTG\"],\n",
        "    \"M\": [\"ATG\"],\n",
        "    \"F\": [\"TTT\", \"TTC\"],\n",
        "    \"P\": [\"CCT\", \"CCC\", \"CCA\", \"CCG\"],\n",
        "    \"S\": [\"TCT\", \"TCC\", \"TCA\", \"TCG\", \"AGT\", \"AGC\"],\n",
        "    \"T\": [\"ACT\", \"ACC\", \"ACA\", \"ACG\"],\n",
        "    \"W\": [\"TGG\"],\n",
        "    \"Y\": [\"TAT\", \"TAC\"],\n",
        "    \"V\": [\"GTT\", \"GTC\", \"GTA\", \"GTG\"],\n",
        "    \"STOP\": [\"TAA\", \"TAG\", \"TGA\"]\n",
        "}\n",
        "\n",
        "# Generate all possible combinations of DNA sequences that can encode the amino acid sequence \"AGIKS\"\n",
        "possible_sequences = list(product(*[genetic_code[aa] for aa in amino_acid_sequence]))\n",
        "\n",
        "# Convert the DNA sequences to strings\n",
        "dna_sequences = [\"\".join(seq) for seq in possible_sequences]\n",
        "\n",
        "# Print the generated DNA sequences\n",
        "for sequence in dna_sequences:\n",
        "    print(sequence)\n"
      ],
      "metadata": {
        "colab": {
          "base_uri": "https://localhost:8080/"
        },
        "id": "82fHXiiRg1LX",
        "outputId": "3213bf2b-c6b4-42eb-cd9e-09f2bcc7ffc9"
      },
      "execution_count": null,
      "outputs": [
        {
          "output_type": "stream",
          "name": "stdout",
          "text": [
            "GGTTTAGAA\n",
            "GGTTTAGAG\n",
            "GGTTTGGAA\n",
            "GGTTTGGAG\n",
            "GGTCTTGAA\n",
            "GGTCTTGAG\n",
            "GGTCTCGAA\n",
            "GGTCTCGAG\n",
            "GGTCTAGAA\n",
            "GGTCTAGAG\n",
            "GGTCTGGAA\n",
            "GGTCTGGAG\n",
            "GGCTTAGAA\n",
            "GGCTTAGAG\n",
            "GGCTTGGAA\n",
            "GGCTTGGAG\n",
            "GGCCTTGAA\n",
            "GGCCTTGAG\n",
            "GGCCTCGAA\n",
            "GGCCTCGAG\n",
            "GGCCTAGAA\n",
            "GGCCTAGAG\n",
            "GGCCTGGAA\n",
            "GGCCTGGAG\n",
            "GGATTAGAA\n",
            "GGATTAGAG\n",
            "GGATTGGAA\n",
            "GGATTGGAG\n",
            "GGACTTGAA\n",
            "GGACTTGAG\n",
            "GGACTCGAA\n",
            "GGACTCGAG\n",
            "GGACTAGAA\n",
            "GGACTAGAG\n",
            "GGACTGGAA\n",
            "GGACTGGAG\n",
            "GGGTTAGAA\n",
            "GGGTTAGAG\n",
            "GGGTTGGAA\n",
            "GGGTTGGAG\n",
            "GGGCTTGAA\n",
            "GGGCTTGAG\n",
            "GGGCTCGAA\n",
            "GGGCTCGAG\n",
            "GGGCTAGAA\n",
            "GGGCTAGAG\n",
            "GGGCTGGAA\n",
            "GGGCTGGAG\n"
          ]
        }
      ]
    },
    {
      "cell_type": "code",
      "source": [
        "from Bio import Seq\n",
        "from Bio.Restriction import Restriction\n",
        "from itertools import product\n",
        "\n",
        "recognition_sites = {\n",
        "    \"AflII\": \"CTTAAG\",\n",
        "    \"ApaI\": \"GGGCCC\",\n",
        "    \"AscI\": \"GGCGCGCC\",\n",
        "    \"AanI\": \"TTATAA\",\n",
        "    \"AvrII\": \"CCTAGG\",\n",
        "    \"BamHI\": \"GGATCC\",\n",
        "    \"BbsI\": \"GAAGAC\",\n",
        "    \"BglI\": \"GCCNNNNNGGC\",\n",
        "    \"BglII\": \"AGATCT\",\n",
        "    \"BspDI\": \"ATCGAT\",\n",
        "    \"BsrGI\": \"TGTACA\",\n",
        "    \"BstXI\": \"CCANNNNNTGG\",\n",
        "    \"BstEII\": \"GGTNACC\",\n",
        "    \"BtgZI\": \"GCGATG\",\n",
        "    \"BtgZI_alt\": \"CATCGC\",\n",
        "    \"Eco147I\": \"AGGCCT\",\n",
        "    \"EcoNI\": \"CCTNNNNNAGG\",\n",
        "    \"EcoRI\": \"GAATTC\",\n",
        "    \"EcoRV\": \"GATATC\",\n",
        "    \"HindIII\": \"AAGCTT\",\n",
        "    \"KpnI\": \"GGTACC\",\n",
        "    \"MluI\": \"ACGCGT\",\n",
        "    \"MssI\": \"GTTTAAAC\",\n",
        "    \"NaeI\": \"GCCGGC\",\n",
        "    \"NcoI\": \"CCATGG\",\n",
        "    \"NdeI\": \"CATATG\",\n",
        "    \"NotI\": \"GCGGCCGC\",\n",
        "    \"PacI\": \"TTAATTAA\",\n",
        "    \"PmeI\": \"GTTTAAAC\",\n",
        "    \"PstI\": \"CTGCAG\",\n",
        "    \"PvuII\": \"CAGCTG\",\n",
        "    \"SacI\": \"GAGCTC\",\n",
        "    \"SacII\": \"CCGCGG\",\n",
        "    \"SalI\": \"GTCGAC\",\n",
        "    \"SbfI\": \"CCTGCAGG\",\n",
        "    \"SexAI\": \"ACCNNNNNGGT\",\n",
        "    \"SmaI\": \"CCCGGG\",\n",
        "    \"SpeI\": \"ACTAGT\",\n",
        "    \"SphI\": \"GCATGC\",\n",
        "    \"SspI\": \"AATATT\",\n",
        "    \"StuI\": \"AGGCCT\",\n",
        "    \"XbaI\": \"TCTAGA\",\n",
        "    \"XhoI\": \"CTCGAG\",\n",
        "    \"XmnI\": \"GAANNNNTTC\",\n",
        "    \"BssSaI\": \"CACGAG\"\n",
        "}\n",
        "\n",
        "enzyme_list = list(recognition_sites.keys())\n",
        "\n",
        "\n",
        "# Create a dictionary that maps each amino acid to its corresponding DNA codons based on the genetic code\n",
        "genetic_code = {\n",
        "    \"A\": [\"GCT\", \"GCC\", \"GCA\", \"GCG\"],\n",
        "    \"R\": [\"CGT\", \"CGC\", \"CGA\", \"CGG\", \"AGA\", \"AGG\"],\n",
        "    \"N\": [\"AAT\", \"AAC\"],\n",
        "    \"D\": [\"GAT\", \"GAC\"],\n",
        "    \"C\": [\"TGT\", \"TGC\"],\n",
        "    \"Q\": [\"CAA\", \"CAG\"],\n",
        "    \"E\": [\"GAA\", \"GAG\"],\n",
        "    \"G\": [\"GGT\", \"GGC\", \"GGA\", \"GGG\"],\n",
        "    \"H\": [\"CAT\", \"CAC\"],\n",
        "    \"I\": [\"ATT\", \"ATC\", \"ATA\"],\n",
        "    \"K\": [\"AAA\", \"AAG\"],\n",
        "    \"L\": [\"TTA\", \"TTG\", \"CTT\", \"CTC\", \"CTA\", \"CTG\"],\n",
        "    \"M\": [\"ATG\"],\n",
        "    \"F\": [\"TTT\", \"TTC\"],\n",
        "    \"P\": [\"CCT\", \"CCC\", \"CCA\", \"CCG\"],\n",
        "    \"S\": [\"TCT\", \"TCC\", \"TCA\", \"TCG\", \"AGT\", \"AGC\"],\n",
        "    \"T\": [\"ACT\", \"ACC\", \"ACA\", \"ACG\"],\n",
        "    \"W\": [\"TGG\"],\n",
        "    \"Y\": [\"TAT\", \"TAC\"],\n",
        "    \"V\": [\"GTT\", \"GTC\", \"GTA\", \"GTG\"],\n",
        "    \"STOP\": [\"TAA\", \"TAG\", \"TGA\"]\n",
        "}\n",
        "\n",
        "# Generate all possible combinations of DNA sequences that can encode the amino acid sequence \"AGIKS\"\n",
        "possible_sequences = list(product(*[genetic_code[aa] for aa in amino_acid_sequence]))\n",
        "for sequence in possible_sequences:\n",
        "    dna_sequence = \"\".join(sequence)\n",
        "    for enzyme in enzyme_list:\n",
        "        recognition_site = recognition_sites.get(enzyme)\n",
        "        if recognition_site and recognition_site in dna_sequence:\n",
        "            print(f\"Enzyme {enzyme} can cut the DNA sequence {dna_sequence}.\")"
      ],
      "metadata": {
        "colab": {
          "base_uri": "https://localhost:8080/"
        },
        "id": "5wcwE9Gffrkj",
        "outputId": "109da78a-ed9d-4a10-a840-01289ea7aab1"
      },
      "execution_count": null,
      "outputs": [
        {
          "output_type": "stream",
          "name": "stdout",
          "text": [
            "Enzyme XhoI can cut the DNA sequence GGTCTCGAG.\n",
            "Enzyme XbaI can cut the DNA sequence GGTCTAGAA.\n",
            "Enzyme XbaI can cut the DNA sequence GGTCTAGAG.\n",
            "Enzyme XhoI can cut the DNA sequence GGCCTCGAG.\n",
            "Enzyme XhoI can cut the DNA sequence GGACTCGAG.\n",
            "Enzyme XhoI can cut the DNA sequence GGGCTCGAG.\n"
          ]
        }
      ]
    },
    {
      "cell_type": "code",
      "source": [
        "from Bio import pairwise2\n",
        "\n",
        "\n",
        "# Generate all possible combinations of DNA sequences that can encode the amino acid sequence \"AGIKS\"\n",
        "possible_sequences = list(product(*[genetic_code[aa] for aa in amino_acid_sequence]))\n",
        "\n",
        "# Input DNA sequence to align\n",
        "input_sequence = \"GCTGGGAACAAATCC\"\n",
        "\n",
        "# Initialize variables to store the best alignment score and sequence\n",
        "best_score = -float(\"inf\")\n",
        "best_alignment = \"\"\n",
        "\n",
        "for sequence in possible_sequences:\n",
        "    dna_sequence = \"\".join(sequence)\n",
        "\n",
        "    # Perform sequence alignment between the input sequence and the DNA sequence\n",
        "    alignments = pairwise2.align.globalxx(input_sequence, dna_sequence, one_alignment_only=True)\n",
        "\n",
        "    # Get the alignment score and sequence\n",
        "    alignment_score = alignments[0].score\n",
        "    alignment_sequence = alignments[0].seqB\n",
        "\n",
        "    # Check if the current alignment has a higher score than the previous best alignment\n",
        "    if alignment_score > best_score:\n",
        "        best_score = alignment_score\n",
        "        best_alignment = alignment_sequence\n",
        "\n",
        "print(\"Best alignment:\")\n",
        "print(best_alignment)\n"
      ],
      "metadata": {
        "colab": {
          "base_uri": "https://localhost:8080/"
        },
        "id": "m3TJAiSclbzM",
        "outputId": "4aa37b02-3069-4a9d-d32d-c3ade6fd3f5f"
      },
      "execution_count": null,
      "outputs": [
        {
          "output_type": "stream",
          "name": "stdout",
          "text": [
            "Best alignment:\n",
            "GCT-GGAATCAAATCC\n"
          ]
        },
        {
          "output_type": "stream",
          "name": "stderr",
          "text": [
            "/usr/local/lib/python3.10/dist-packages/Bio/pairwise2.py:278: BiopythonDeprecationWarning: Bio.pairwise2 has been deprecated, and we intend to remove it in a future release of Biopython. As an alternative, please consider using Bio.Align.PairwiseAligner as a replacement, and contact the Biopython developers if you still need the Bio.pairwise2 module.\n",
            "  warnings.warn(\n"
          ]
        }
      ]
    },
    {
      "cell_type": "code",
      "source": [
        "input_sequence = \"GATCATGATGGCTGGGAACAAATCCGATCTGAACCACTTGAGA\"\n",
        "\n",
        "# Divide the input sequence into sets of codons\n",
        "codon_sets = [input_sequence[i:i+3] for i in range(0, len(input_sequence), 3)]\n",
        "\n",
        "# Check if each codon set contains \"GTA\", \"CCC\", or \"GCG\"\n",
        "for codon_set in codon_sets:\n",
        "    if \"GTA\" in codon_set or \"CCC\" in codon_set or \"GCG\" in codon_set:\n",
        "        print(\"Codon set\", codon_set, \"contains 'GTA', 'CCC', or 'GCG'.\")"
      ],
      "metadata": {
        "id": "b-yt5mJTwfYp"
      },
      "execution_count": null,
      "outputs": []
    }
  ]
}